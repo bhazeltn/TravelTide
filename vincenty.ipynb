{
 "cells": [
  {
   "cell_type": "markdown",
   "id": "787f7dcb-93c6-4683-8557-d85b02d6ce8b",
   "metadata": {},
   "source": [
    "## Function to replace the Haversine Distance Function. Vincenty gives a much more accurate result."
   ]
  },
  {
   "cell_type": "code",
   "execution_count": 1,
   "id": "666b0119-4b0a-4594-8544-979c95f4271e",
   "metadata": {},
   "outputs": [],
   "source": [
    "from math import radians, sin, cos, sqrt, atan2\n",
    "\n",
    "def vincenty_distance(lat1, lon1, lat2, lon2):\n",
    "    \"\"\"\n",
    "    Calculate the great-circle distance between two points on the Earth surface given their latitude and longitude in decimal degrees.\n",
    "    \"\"\"\n",
    "    # WGS-84 ellipsiod parameters\n",
    "    a = 6378137.0  # semi-major axis in meters\n",
    "    f = 1 / 298.257223563  # flattening\n",
    "    b = (1 - f) * a  # semi-minor axis\n",
    "\n",
    "    # convert decimal degrees to radians\n",
    "    lat1, lon1, lat2, lon2 = map(radians, [lat1, lon1, lat2, lon2])\n",
    "\n",
    "    # calculations\n",
    "    U1 = atan((1 - f) * tan(lat1))\n",
    "    U2 = atan((1 - f) * tan(lat2))\n",
    "    sinU1 = sin(U1)\n",
    "    cosU1 = cos(U1)\n",
    "    sinU2 = sin(U2)\n",
    "    cosU2 = cos(U2)\n",
    "\n",
    "    lon_diff = lon2 - lon1\n",
    "    Lambda = lon_diff  # initial approximation for lambda\n",
    "    sinLambda = sin(Lambda)\n",
    "    cosLambda = cos(Lambda)\n",
    "\n",
    "    # iterate until change is insignificant\n",
    "    for _ in range(1000):\n",
    "        sinSigma = sqrt((cosU2 * sin(Lambda)) ** 2 + (cosU1 * sinU2 - sinU1 * cosU2 * cos(Lambda)) ** 2)\n",
    "        cosSigma = sinU1 * sinU2 + cosU1 * cosU2 * cos(Lambda)\n",
    "        sigma = atan2(sinSigma, cosSigma)\n",
    "        sinAlpha = cosU1 * cosU2 * sin(Lambda) / sinSigma\n",
    "        cos2Alpha = 1 - sinAlpha ** 2\n",
    "        cos2SigmaM = cosSigma - 2 * sinU1 * sinU2 / cos2Alpha\n",
    "        C = f / 16 * cos2Alpha * (4 + f * (4 - 3 * cos2Alpha))\n",
    "        Lambda_prev = Lambda\n",
    "        Lambda = lon_diff + (1 - C) * f * sinAlpha * (sigma + C * sinSigma * (cos2SigmaM + C * cosSigma * (-1 + 2 * cos2SigmaM ** 2)))\n",
    "        # break if change in lambda is insignificant\n",
    "        if abs(Lambda - Lambda_prev) < 1e-12:\n",
    "            break\n",
    "\n",
    "    # final calculations\n",
    "    u2 = cos2Alpha * (a ** 2 - b ** 2) / (b ** 2)\n",
    "    A = 1 + u2 / 16384 * (4096 + u2 * (-768 + u2 * (320 - 175 * u2)))\n",
    "    B = u2 / 1024 * (256 + u2 * (-128 + u2 * (74 - 47 * u2)))\n",
    "    deltaSigma = B * sinSigma * (cos2SigmaM + B / 4 * (cosSigma * (-1 + 2 * cos2SigmaM ** 2) - B / 6 * cos2SigmaM * (-3 + 4 * sinSigma ** 2) * (-3 + 4 * cos2SigmaM ** 2)))\n",
    "\n",
    "    # distance in meters\n",
    "    s = b * A * (sigma - deltaSigma)\n",
    "\n",
    "    return s"
   ]
  }
 ],
 "metadata": {
  "kernelspec": {
   "display_name": "Python 3 (ipykernel)",
   "language": "python",
   "name": "python3"
  },
  "language_info": {
   "codemirror_mode": {
    "name": "ipython",
    "version": 3
   },
   "file_extension": ".py",
   "mimetype": "text/x-python",
   "name": "python",
   "nbconvert_exporter": "python",
   "pygments_lexer": "ipython3",
   "version": "3.10.9"
  }
 },
 "nbformat": 4,
 "nbformat_minor": 5
}
