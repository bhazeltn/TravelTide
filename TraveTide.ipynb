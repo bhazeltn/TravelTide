{
 "cells": [
  {
   "cell_type": "markdown",
   "id": "f79a9f53-9b00-408a-bc93-e595aad1bf9a",
   "metadata": {},
   "source": [
    "# Exploratory Analysis for TravelTide Marketing Project\n",
    "\n",
    "## Goal is to segment customer behavior to target specific perks for the new rewards program to improve customer retention\n",
    "\n",
    "## Perks\n",
    "<ul>\n",
    "    <li>Free Hotel Meal</li>\n",
    "    <li>Free Checked Bag</li>\n",
    "    <li>No Cancellation Fees</li>\n",
    "    <li>Exclusive Discounts</li>\n",
    "    <li>Exclusive Seasonal Discounts and Offers</li>\n",
    "    <li>1 Night Free Hotel With Flight</li>\n",
    "    <li>Complementary Lounge Access</li>\n",
    "</ul>\n",
    "\n",
    "Initial exploration was done in the Travel Tide Exploration Viz notebook but was starting to get sidetracked. I am moving forward with exploring potential segments in this notebook."
   ]
  },
  {
   "cell_type": "code",
   "execution_count": null,
   "id": "1c2c9a8e-4c68-4a69-9e9e-e6bbde222446",
   "metadata": {},
   "outputs": [],
   "source": []
  }
 ],
 "metadata": {
  "kernelspec": {
   "display_name": "Python 3 (ipykernel)",
   "language": "python",
   "name": "python3"
  },
  "language_info": {
   "codemirror_mode": {
    "name": "ipython",
    "version": 3
   },
   "file_extension": ".py",
   "mimetype": "text/x-python",
   "name": "python",
   "nbconvert_exporter": "python",
   "pygments_lexer": "ipython3",
   "version": "3.10.9"
  }
 },
 "nbformat": 4,
 "nbformat_minor": 5
}
